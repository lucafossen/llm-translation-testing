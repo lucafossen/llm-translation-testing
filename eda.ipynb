{
 "cells": [
  {
   "cell_type": "code",
   "execution_count": 1,
   "metadata": {},
   "outputs": [
    {
     "name": "stderr",
     "output_type": "stream",
     "text": [
      "[nltk_data] Downloading package punkt to\n",
      "[nltk_data]     C:\\Users\\lucaf\\AppData\\Roaming\\nltk_data...\n",
      "[nltk_data]   Package punkt is already up-to-date!\n"
     ]
    },
    {
     "data": {
      "text/plain": [
       "True"
      ]
     },
     "execution_count": 1,
     "metadata": {},
     "output_type": "execute_result"
    }
   ],
   "source": [
    "from tqdm import tqdm\n",
    "import os\n",
    "import nltk\n",
    "from nltk.tokenize import word_tokenize, sent_tokenize\n",
    "\n",
    "nltk.download('punkt')"
   ]
  },
  {
   "cell_type": "code",
   "execution_count": 2,
   "metadata": {},
   "outputs": [],
   "source": [
    "# Function to analyze text\n",
    "def analyze_text(text):\n",
    "    sentences = sent_tokenize(text)\n",
    "    words = word_tokenize(text)\n",
    "    num_sentences = len(sentences)\n",
    "    num_words = len(words)\n",
    "    avg_sentence_length = num_words / num_sentences if num_sentences > 0 else 0\n",
    "    return num_words, num_sentences, avg_sentence_length\n"
   ]
  },
  {
   "cell_type": "code",
   "execution_count": 3,
   "metadata": {},
   "outputs": [
    {
     "name": "stderr",
     "output_type": "stream",
     "text": [
      "Processing files in flores200_dataset/dev: 100%|██████████| 204/204 [00:20<00:00, 10.02it/s]\n",
      "Processing files in flores200_dataset/devtest: 100%|██████████| 204/204 [00:21<00:00,  9.40it/s]\n"
     ]
    }
   ],
   "source": [
    "# Directory paths\n",
    "dev_dir = 'flores200_dataset/dev'\n",
    "devtest_dir = 'flores200_dataset/devtest'\n",
    "\n",
    "# Initialize counters for the entire dataset\n",
    "total_words = total_sentences = total_texts = 0\n",
    "\n",
    "# Initialize counters for Maori specifically\n",
    "maori_words = maori_sentences = maori_texts = 0\n",
    "\n",
    "# Initialize counters for English specifically\n",
    "english_words = english_sentences = english_texts = 0\n",
    "\n",
    "# Analyze all files in the dev and devtest directories\n",
    "for directory in [dev_dir, devtest_dir]:\n",
    "    for filename in tqdm(os.listdir(directory), desc=f\"Processing files in {directory}\"):\n",
    "        file_path = os.path.join(directory, filename)\n",
    "        with open(file_path, 'r', encoding='utf-8') as f:\n",
    "            lines = f.readlines()\n",
    "            for line in tqdm(lines, desc=f\"Processing lines in {filename}\", leave=False):\n",
    "                num_words, num_sentences, _ = analyze_text(line)\n",
    "                total_words += num_words\n",
    "                total_sentences += num_sentences\n",
    "                total_texts += 1\n",
    "\n",
    "                # Check if the file is for Maori\n",
    "                if 'mri_Latn' in filename:\n",
    "                    maori_words += num_words\n",
    "                    maori_sentences += num_sentences\n",
    "                    maori_texts += 1\n",
    "\n",
    "                # Check if the file is for English\n",
    "                if 'eng_Latn' in filename:\n",
    "                    english_words += num_words\n",
    "                    english_sentences += num_sentences\n",
    "                    english_texts += 1\n"
   ]
  },
  {
   "cell_type": "code",
   "execution_count": 4,
   "metadata": {},
   "outputs": [
    {
     "name": "stdout",
     "output_type": "stream",
     "text": [
      "Average words per text (entire dataset): 23.18\n",
      "Average sentences per text (entire dataset): 1.11\n",
      "Average words per text (Maori): 32.50\n",
      "Average sentences per text (Maori): 1.12\n",
      "Average words per text (English): 24.10\n",
      "Average sentences per text (English): 1.12\n"
     ]
    }
   ],
   "source": [
    "\n",
    "# Calculate averages for the entire dataset\n",
    "avg_words_per_text = total_words / total_texts if total_texts > 0 else 0\n",
    "avg_sentences_per_text = total_sentences / total_texts if total_texts > 0 else 0\n",
    "\n",
    "# Calculate averages for Maori\n",
    "avg_maori_words_per_text = maori_words / maori_texts if maori_texts > 0 else 0\n",
    "avg_maori_sentences_per_text = maori_sentences / maori_texts if maori_texts > 0 else 0\n",
    "\n",
    "# Calculate averages for English\n",
    "avg_english_words_per_text = english_words / english_texts if english_texts > 0 else 0\n",
    "avg_english_sentences_per_text = english_sentences / english_texts if english_texts > 0 else 0\n",
    "\n",
    "print(f\"Average words per text (entire dataset): {avg_words_per_text:.2f}\")\n",
    "print(f\"Average sentences per text (entire dataset): {avg_sentences_per_text:.2f}\")\n",
    "print(f\"Average words per text (Maori): {avg_maori_words_per_text:.2f}\")\n",
    "print(f\"Average sentences per text (Maori): {avg_maori_sentences_per_text:.2f}\")\n",
    "print(f\"Average words per text (English): {avg_english_words_per_text:.2f}\")\n",
    "print(f\"Average sentences per text (English): {avg_english_sentences_per_text:.2f}\")"
   ]
  },
  {
   "cell_type": "code",
   "execution_count": null,
   "metadata": {},
   "outputs": [],
   "source": []
  }
 ],
 "metadata": {
  "kernelspec": {
   "display_name": "venv",
   "language": "python",
   "name": "python3"
  },
  "language_info": {
   "codemirror_mode": {
    "name": "ipython",
    "version": 3
   },
   "file_extension": ".py",
   "mimetype": "text/x-python",
   "name": "python",
   "nbconvert_exporter": "python",
   "pygments_lexer": "ipython3",
   "version": "3.11.5"
  }
 },
 "nbformat": 4,
 "nbformat_minor": 2
}
